{
 "cells": [
  {
   "cell_type": "code",
   "execution_count": 42,
   "id": "462ab42b-bddd-495e-9084-b92ab4ecfccc",
   "metadata": {},
   "outputs": [],
   "source": [
    "import statistics\n",
    "import math\n",
    "import numpy as np\n",
    "import fractions"
   ]
  },
  {
   "cell_type": "code",
   "execution_count": 43,
   "id": "0907c04a-46c8-4d22-aa87-a489e9461868",
   "metadata": {},
   "outputs": [],
   "source": [
    "#Samples given \n",
    "x = [1.01, 0.99, 0.78, 1.12, 1.20, 0.86, 0.65, 0.56,\n",
    "    0.87, 0.63, 0.7, 1.24, 1.4]"
   ]
  },
  {
   "cell_type": "code",
   "execution_count": 44,
   "id": "a1aca58d-de78-4cfe-878d-edf4bdefa56f",
   "metadata": {},
   "outputs": [
    {
     "name": "stdout",
     "output_type": "stream",
     "text": [
      "No. of Samples is: 13\n"
     ]
    }
   ],
   "source": [
    "def no_of_samples(list):\n",
    "    count = 0\n",
    "    for element in list:\n",
    "        count += 1\n",
    "    return count\n",
    "print(\"No. of Samples is:\", no_of_samples(x))"
   ]
  },
  {
   "cell_type": "code",
   "execution_count": 94,
   "id": "a8a08f05-ce57-4f29-9284-e7f29f63ad97",
   "metadata": {},
   "outputs": [],
   "source": [
    "#Function that will calculate the regular harmonic mean of our dataset. \n",
    "def harmonic_mean(*numbers):\n",
    "    reciprocals = []\n",
    "    for i in numbers:\n",
    "        reciprocals.append(1/i)\n",
    "    avg = sum(reciprocals)/len(numbers)\n",
    "    hm_decimal = 1/avg\n",
    "    return (round(hm_decimal,4))"
   ]
  },
  {
   "cell_type": "code",
   "execution_count": 92,
   "id": "ae59bcb1-5ede-492a-91b3-1c080672c5a9",
   "metadata": {},
   "outputs": [],
   "source": [
    "#We define a function called pseudovalues that will create a list of harmonic means by removing one data sample from dataset at each iterations. \n",
    "#for the index and value pair we loop through all the item in dataset. enumerate gives the samples a index, pair of (index, value)\n",
    "def pseudovalues(list):\n",
    "    vals=[]\n",
    "    for index, values in enumerate(list):\n",
    "        hm_pseudo = [1/y for i,y in enumerate(list) if i!=index]\n",
    "        vals.append((len(list)-1)/sum(hm_pseudo))\n",
    "    return vals"
   ]
  },
  {
   "cell_type": "code",
   "execution_count": 93,
   "id": "7cdc3bc6-fb52-4e74-a82d-42ff6bb2378e",
   "metadata": {},
   "outputs": [
    {
     "data": {
      "text/plain": [
       "[0.8455858177734364,\n",
       " 0.8467793114169977,\n",
       " 0.8633470759118885,\n",
       " 0.8398311308412671,\n",
       " 0.836347052019475,\n",
       " 0.8560023420716846,\n",
       " 0.8795730768509937,\n",
       " 0.8958078669988685,\n",
       " 0.855187005174978,\n",
       " 0.8827331432198184,\n",
       " 0.8725449900234676,\n",
       " 0.8347830548264198,\n",
       " 0.8294649039325938]"
      ]
     },
     "execution_count": 93,
     "metadata": {},
     "output_type": "execute_result"
    }
   ],
   "source": [
    "pseudovalues(x)"
   ]
  },
  {
   "cell_type": "code",
   "execution_count": 79,
   "id": "39e8dde4-5ff2-4dc8-ab0c-01381cd2a175",
   "metadata": {},
   "outputs": [
    {
     "name": "stdout",
     "output_type": "stream",
     "text": [
      "0.8563\n"
     ]
    }
   ],
   "source": [
    "HM = harmonic_mean(1.01, 0.99, 0.78, 1.12, 1.20, 0.86, 0.65, 0.56,\n",
    "    0.87, 0.63, 0.7, 1.24, 1.4)\n",
    "print(HM)"
   ]
  },
  {
   "cell_type": "code",
   "execution_count": 80,
   "id": "67b7cb2e-e93b-4bfa-9921-4eaee836c267",
   "metadata": {},
   "outputs": [],
   "source": [
    "vals = np.unique(x)"
   ]
  },
  {
   "cell_type": "code",
   "execution_count": 81,
   "id": "ae075ec4-433b-40cd-b700-7a9daff87ec1",
   "metadata": {},
   "outputs": [
    {
     "name": "stdout",
     "output_type": "stream",
     "text": [
      "[0.56 0.63 0.65 0.7  0.78 0.86 0.87 0.99 1.01 1.12 1.2  1.24 1.4 ]\n"
     ]
    }
   ],
   "source": [
    "print(vals)"
   ]
  },
  {
   "cell_type": "code",
   "execution_count": 82,
   "id": "63ffc918-30a1-4ca7-8eb3-49a62b856c1a",
   "metadata": {},
   "outputs": [
    {
     "data": {
      "text/plain": [
       "0.8456"
      ]
     },
     "execution_count": 82,
     "metadata": {},
     "output_type": "execute_result"
    }
   ],
   "source": [
    "harmonic_mean(0.99, 0.78, 1.12, 1.20, 0.86, 0.65, 0.56, 0.87,\n",
    "    0.63, 0.70, 1.24, 1.40)"
   ]
  },
  {
   "cell_type": "code",
   "execution_count": 83,
   "id": "6041e1b3-45f6-4edd-b64e-27ad8580f71d",
   "metadata": {},
   "outputs": [
    {
     "data": {
      "text/plain": [
       "0.8568"
      ]
     },
     "execution_count": 83,
     "metadata": {},
     "output_type": "execute_result"
    }
   ],
   "source": [
    "#Lets get more of the pseudo-harmonic values\n",
    "y = pseudovalues(x)\n",
    "arith_mean = statistics.mean(y)\n",
    "am = round(arith_mean, 4)\n",
    "am"
   ]
  },
  {
   "cell_type": "code",
   "execution_count": 91,
   "id": "7c1f18e1-5421-45be-af78-dd0eeefe694e",
   "metadata": {},
   "outputs": [],
   "source": [
    "#Standard deviation formula based on the the paper. \n",
    "def stand_dev(ls):\n",
    "    n = len(ls)\n",
    "    mean = sum(ls) /n\n",
    "    variance = sum((x - mean)**2 for x in ls)* (n-1)\n",
    "    std_dev = variance ** 0.5\n",
    "    return std_dev"
   ]
  },
  {
   "cell_type": "code",
   "execution_count": 85,
   "id": "b5baef66-276b-4481-959d-c6ffbb53d2bd",
   "metadata": {},
   "outputs": [
    {
     "data": {
      "text/plain": [
       "0.2491"
      ]
     },
     "execution_count": 85,
     "metadata": {},
     "output_type": "execute_result"
    }
   ],
   "source": [
    "stand_dev(y)\n",
    "sd = round(stand_dev(y), 4)\n",
    "sd"
   ]
  },
  {
   "cell_type": "code",
   "execution_count": 107,
   "id": "d78d1b4a-660e-4dfb-a004-e01493ccf44a",
   "metadata": {},
   "outputs": [],
   "source": [
    "#Confidence Interval\n",
    "#13 is the length of data\n",
    "#Use len(x) if the size of dataset is different.\n",
    "C1 = round(HM - 1.782*(sd/math.sqrt(13)),4)\n",
    "C2 = round(HM + 1.782*(sd/math.sqrt(13)),4)"
   ]
  },
  {
   "cell_type": "code",
   "execution_count": 108,
   "id": "169f8f11-01ef-4951-b812-12760e473648",
   "metadata": {},
   "outputs": [
    {
     "name": "stdout",
     "output_type": "stream",
     "text": [
      "Confidence interval for HM is:  (0.7332, 0.9794)\n"
     ]
    }
   ],
   "source": [
    "print('Confidence interval for HM is: ', (C1,C2))"
   ]
  },
  {
   "cell_type": "code",
   "execution_count": 95,
   "id": "b7686e05-9916-4a08-8eb3-4090e8e21b38",
   "metadata": {},
   "outputs": [],
   "source": [
    "import seaborn as sns\n",
    "import matplotlib.pyplot as plt"
   ]
  },
  {
   "cell_type": "code",
   "execution_count": 106,
   "id": "3121cec9-4652-47de-b8f2-d929e175f2a3",
   "metadata": {},
   "outputs": [
    {
     "name": "stderr",
     "output_type": "stream",
     "text": [
      "C:\\Users\\PrithviCS\\AppData\\Local\\Programs\\Python\\Python39\\lib\\site-packages\\seaborn\\distributions.py:2619: FutureWarning: `distplot` is a deprecated function and will be removed in a future version. Please adapt your code to use either `displot` (a figure-level function with similar flexibility) or `kdeplot` (an axes-level function for kernel density plots).\n",
      "  warnings.warn(msg, FutureWarning)\n"
     ]
    },
    {
     "data": {
      "image/png": "[encoded data removed]",
      "text/plain": [
       "<Figure size 432x288 with 1 Axes>"
      ]
     },
     "metadata": {
      "needs_background": "light"
     },
     "output_type": "display_data"
    }
   ],
   "source": [
    "sns.distplot(y,hist=False)\n",
    "plt.xlabel(\"Sample\")\n",
    "plt.ylabel(\"Confidence Interval\")\n",
    "plt.title(\"Confidence Interval estimation on dataset\")\n",
    "plt.show()"
   ]
  },
  {
   "cell_type": "code",
   "execution_count": null,
   "id": "dafe5db7-7982-44e8-9fd1-8b30fbb927c1",
   "metadata": {},
   "outputs": [],
   "source": []
  }
 ],
 "metadata": {
  "kernelspec": {
   "display_name": "Python 3 (ipykernel)",
   "language": "python",
   "name": "python3"
  },
  "language_info": {
   "codemirror_mode": {
    "name": "ipython",
    "version": 3
   },
   "file_extension": ".py",
   "mimetype": "text/x-python",
   "name": "python",
   "nbconvert_exporter": "python",
   "pygments_lexer": "ipython3",
   "version": "3.9.7"
  }
 },
 "nbformat": 4,
 "nbformat_minor": 5
}
